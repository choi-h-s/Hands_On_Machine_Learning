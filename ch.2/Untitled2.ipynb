{
 "cells": [
  {
   "cell_type": "markdown",
   "id": "df0edd5e-169b-4ddb-853c-72249215830c",
   "metadata": {},
   "source": [
    "**실습.1**\n",
    "### **iris 데이터를 이용한 <span style='color:darkgreen'> AI분류</span> 문제**\n",
    "---"
   ]
  },
  {
   "cell_type": "markdown",
   "id": "a454341c-9b33-4389-89e6-a755a2f3a513",
   "metadata": {},
   "source": [
    "#### 붓꽃의 종류, 길이, 너비 등의 데이터를 이용하여 붓꽃(iris)의 종류를 분류하는 AI 모델 제작 문제입니다.\n",
    "\n",
    "#### AI 코딩 단계에 따라 주어지는 문제를 읽고 답안을 작성하세요.\n",
    "- 데이터 : 분류(카테고리)\n"
   ]
  }
 ],
 "metadata": {
  "kernelspec": {
   "display_name": "Python 3",
   "language": "python",
   "name": "python3"
  },
  "language_info": {
   "codemirror_mode": {
    "name": "ipython",
    "version": 3
   },
   "file_extension": ".py",
   "mimetype": "text/x-python",
   "name": "python",
   "nbconvert_exporter": "python",
   "pygments_lexer": "ipython3",
   "version": "3.8.8"
  }
 },
 "nbformat": 4,
 "nbformat_minor": 5
}
